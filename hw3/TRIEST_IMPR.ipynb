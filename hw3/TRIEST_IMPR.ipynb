{
 "cells": [
  {
   "cell_type": "code",
   "execution_count": 17,
   "metadata": {
    "collapsed": true
   },
   "outputs": [],
   "source": [
    "import random"
   ]
  },
  {
   "cell_type": "code",
   "execution_count": 18,
   "outputs": [],
   "source": [
    "class TRIEST_BASE:\n",
    "    def __init__(self, M = 100):\n",
    "        self.M = M\n",
    "        self.S = set()\n",
    "        self.global_counter = 0\n",
    "        self.local_counter = {}\n",
    "        self.t = 0\n",
    "\n",
    "    def sample_edge(self, t):\n",
    "        if t <= self.M:\n",
    "            return True\n",
    "        if random.random() <= (self.M/t):\n",
    "            random_edge = random.sample(self.S, 1)[0]\n",
    "            self.S.remove(random_edge)\n",
    "            # remove the call to function update_counters\n",
    "            # self.update_counters('-', Edge)\n",
    "            return True\n",
    "        return False\n",
    "\n",
    "    # trièst-impr never decrements the counters when an edge is removed from S\n",
    "    # operation only '+'\n",
    "    # UpdateCounters performs a weighted increase of the counters\n",
    "    def update_counters(self, t, edge):\n",
    "        # edge E = (u,v)\n",
    "        u = edge[0]\n",
    "        v = edge[1]\n",
    "        neighborhood_of_u = set()\n",
    "        neighborhood_of_v = set()\n",
    "        # construct neighborhood of u\n",
    "        for one_edge in self.S:\n",
    "            if u == one_edge[0]:\n",
    "                neighborhood_of_u.add(one_edge[1])\n",
    "            if u == one_edge[1]:\n",
    "                neighborhood_of_u.add(one_edge[0])\n",
    "            # construct neighborhood of v\n",
    "            if v == one_edge[0]:\n",
    "                neighborhood_of_v.add(one_edge[1])\n",
    "            if v == one_edge[1]:\n",
    "                neighborhood_of_v.add(one_edge[0])\n",
    "        # shared neighborhood of u and v\n",
    "        shared_neighborhood = set.intersection(neighborhood_of_u, neighborhood_of_v)\n",
    "        # using the max of {1,(t−1)(t−2)/(M(M−1))} as weight.\n",
    "        _weight = ((t - 1) * (t - 2)) / (self.M * (self.M - 1))\n",
    "        weight = max(1, _weight)\n",
    "        # update counters\n",
    "        # replace “1” with the weight\n",
    "        for c in shared_neighborhood:\n",
    "            self.global_counter += weight\n",
    "            self.local_counter[c] = self.local_counter.get(c, 0) + weight\n",
    "            self.local_counter[u] = self.local_counter.get(u, 0) + weight\n",
    "            self.local_counter[v] = self.local_counter.get(v, 0) + weight\n",
    "\n",
    "\n",
    "    def run_triest_base(self, streams):\n",
    "\n",
    "        for element in streams:\n",
    "            self.t += 1\n",
    "            # Update_Counters is called unconditionally for each element on the stream\n",
    "            # move update_counter before the if block\n",
    "            self.update_counters(self.t, element)\n",
    "            if self.sample_edge(self.t):\n",
    "                self.S.add(element)\n",
    "\n",
    "        # eps = (self.t * (self.t - 1) * (self.t - 2)) / (self.M * (self.M - 1) * (self.M - 2))\n",
    "        #\n",
    "        # eps = max(1, eps)\n",
    "        # print('Epsilon is ', eps)\n",
    "        # estimation for the global triangle count\n",
    "        #est_gc = eps * self.global_counter\n",
    "        return self.global_counter\n",
    "\n"
   ],
   "metadata": {
    "collapsed": false,
    "pycharm": {
     "name": "#%%\n"
    }
   }
  },
  {
   "cell_type": "code",
   "execution_count": 19,
   "outputs": [
    {
     "name": "stdout",
     "output_type": "stream",
     "text": [
      "The amount of edges of Data Stream contains 25973\n"
     ]
    }
   ],
   "source": [
    "def undirected_edge(u,v):\n",
    "    if u < v:\n",
    "        return (u,v)\n",
    "    else:\n",
    "        return (v,u)\n",
    "\n",
    "# import dataset\n",
    "streams = set()\n",
    "\n",
    "with open(\"CA-HepTh.txt\") as f:\n",
    "    for line in f:\n",
    "        if line[0] == '#':\n",
    "            continue\n",
    "        edge = line.split()\n",
    "        if edge[0] != edge[1]:\n",
    "            streams.add(undirected_edge(edge[0], edge[1]))\n",
    "        # if size_stream == 10000:\n",
    "        #     break\n",
    "\n",
    "print('The amount of edges of Data Stream contains', len(streams))\n"
   ],
   "metadata": {
    "collapsed": false,
    "pycharm": {
     "name": "#%%\n"
    }
   }
  },
  {
   "cell_type": "code",
   "execution_count": 20,
   "outputs": [
    {
     "name": "stdout",
     "output_type": "stream",
     "text": [
      "the value of M is 8000\n",
      "Estimation for the global triangle count is 27901.966623734173\n",
      "the value of M is 25973\n",
      "Actual global triangle count is 28339\n",
      "Error triangles are 437.0333762658265\n",
      "Error rate is 0.015421623073002806\n"
     ]
    }
   ],
   "source": [
    "triest_base = TRIEST_BASE(8000)\n",
    "print('the value of M is', triest_base.M)\n",
    "glo_tri_counter = triest_base.run_triest_base(streams)\n",
    "print('Estimation for the global triangle count is', glo_tri_counter)\n",
    "\n",
    "triest_base = TRIEST_BASE(len(streams))\n",
    "print('the value of M is', len(streams))\n",
    "true_glo_tri_counter = triest_base.run_triest_base(streams)\n",
    "print('Actual global triangle count is', true_glo_tri_counter)\n",
    "\n",
    "error_count = abs(true_glo_tri_counter - glo_tri_counter)\n",
    "print('Error triangles are', error_count)\n",
    "error_rate = error_count/ true_glo_tri_counter\n",
    "print('Error rate is', error_rate)"
   ],
   "metadata": {
    "collapsed": false,
    "pycharm": {
     "name": "#%%\n"
    }
   }
  }
 ],
 "metadata": {
  "kernelspec": {
   "display_name": "Python 3",
   "language": "python",
   "name": "python3"
  },
  "language_info": {
   "codemirror_mode": {
    "name": "ipython",
    "version": 2
   },
   "file_extension": ".py",
   "mimetype": "text/x-python",
   "name": "python",
   "nbconvert_exporter": "python",
   "pygments_lexer": "ipython2",
   "version": "2.7.6"
  }
 },
 "nbformat": 4,
 "nbformat_minor": 0
}